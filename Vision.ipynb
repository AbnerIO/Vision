{
 "cells": [
  {
   "cell_type": "code",
   "execution_count": 36,
   "id": "27679b14-6757-47ee-ac51-b064e0975183",
   "metadata": {
    "execution": {
     "iopub.execute_input": "2024-03-11T05:07:44.028276Z",
     "iopub.status.busy": "2024-03-11T05:07:44.028276Z",
     "iopub.status.idle": "2024-03-11T05:07:44.049598Z",
     "shell.execute_reply": "2024-03-11T05:07:44.049598Z",
     "shell.execute_reply.started": "2024-03-11T05:07:44.028276Z"
    }
   },
   "outputs": [
    {
     "name": "stdout",
     "output_type": "stream",
     "text": [
      "[[  9 125 228 ... 205  88 143]\n",
      " [253 134 246 ... 161  95 171]\n",
      " [216 224 229 ...  44   9  50]\n",
      " ...\n",
      " [ 94  30  19 ... 181 148  53]\n",
      " [ 95 185 228 ...   3 229  63]\n",
      " [188 134 195 ...  75 112 245]]\n"
     ]
    }
   ],
   "source": [
    "import numpy as np\n",
    "\n",
    "# Simulación de una matriz de imagen en escala de grises de 10x10\n",
    "np.random.seed(10)  # Semilla para reproducibilidad\n",
    "image_matrix = np.random.randint(0, 256, size=(100, 100))\n",
    "print(image_matrix)"
   ]
  },
  {
   "cell_type": "markdown",
   "id": "ce19b3b7-8b3f-48a5-ab95-3e68beea5320",
   "metadata": {},
   "source": [
    "### Umbral basado en Varianza"
   ]
  },
  {
   "cell_type": "code",
   "execution_count": 37,
   "id": "1af2a194-5e76-40af-9bc2-d645463fdcdc",
   "metadata": {
    "execution": {
     "iopub.execute_input": "2024-03-11T05:07:49.113871Z",
     "iopub.status.busy": "2024-03-11T05:07:49.113871Z",
     "iopub.status.idle": "2024-03-11T05:07:49.211489Z",
     "shell.execute_reply": "2024-03-11T05:07:49.211489Z",
     "shell.execute_reply.started": "2024-03-11T05:07:49.113871Z"
    }
   },
   "outputs": [
    {
     "name": "stdout",
     "output_type": "stream",
     "text": [
      "127\n",
      "[[  9 125 228 ... 205  88 143]\n",
      " [253 134 246 ... 161  95 171]\n",
      " [216 224 229 ...  44   9  50]\n",
      " ...\n",
      " [ 94  30  19 ... 181 148  53]\n",
      " [ 95 185 228 ...   3 229  63]\n",
      " [188 134 195 ...  75 112 245]]\n",
      "[[  0   0 255 ... 255   0 255]\n",
      " [255 255 255 ... 255   0 255]\n",
      " [255 255 255 ...   0   0   0]\n",
      " ...\n",
      " [  0   0   0 ... 255 255   0]\n",
      " [  0 255 255 ...   0 255   0]\n",
      " [255 255 255 ...   0   0 255]]\n"
     ]
    }
   ],
   "source": [
    "\n",
    "\n",
    "def calculate_threshold_based_on_variance(image):\n",
    "    # Calcular la frecuencia de cada intensidad de píxel\n",
    "    unique, counts = np.unique(image, return_counts=True)\n",
    "    frequencies = dict(zip(unique, counts))\n",
    "    \n",
    "    # Calcular la probabilidad de cada intensidad\n",
    "    total_pixels = image.size\n",
    "    probabilities = {k: v / total_pixels for k, v in frequencies.items()}\n",
    "    \n",
    "    # Inicializar variables para el cálculo del umbral\n",
    "    best_threshold = None\n",
    "    max_variance = 0\n",
    "    \n",
    "    for threshold in unique:\n",
    "        # Dividir las intensidades en dos grupos basados en el umbral\n",
    "        background = {k: probabilities[k] for k in probabilities if k <= threshold}\n",
    "        foreground = {k: probabilities[k] for k in probabilities if k > threshold}\n",
    "        \n",
    "        # Calcular pesos (probabilidades totales) de los fondos y formas\n",
    "        weight_background = sum(background.values())\n",
    "        weight_foreground = sum(foreground.values())\n",
    "        \n",
    "        # Evitar división por cero\n",
    "        if weight_background == 0 or weight_foreground == 0:\n",
    "            continue\n",
    "        \n",
    "        # Calcular medias de cada grupo\n",
    "        mean_background = sum(k * v for k, v in background.items()) / weight_background\n",
    "        mean_foreground = sum(k * v for k, v in foreground.items()) / weight_foreground\n",
    "        \n",
    "        # Calcular varianza entre clases\n",
    "        variance_between = weight_background * weight_foreground * (mean_background - mean_foreground) ** 2\n",
    "        \n",
    "        # Actualizar el mejor umbral si se encuentra una varianza mayor\n",
    "        if variance_between > max_variance:\n",
    "            max_variance = variance_between\n",
    "            best_threshold = threshold\n",
    "    \n",
    "    return best_threshold, image_matrix\n",
    "\n",
    "# Calcular el umbral basado en la varianza\n",
    "threshold, sample_image_matrix = calculate_threshold_based_on_variance(image_matrix)\n",
    "print(threshold)\n",
    "print(sample_image_matrix)\n",
    "# Aplicar el umbral de valle global a la matriz original\n",
    "segmented_by_variance = np.where(image_matrix <= threshold, 0, 255)\n",
    "print(segmented_by_variance)\n",
    "\n"
   ]
  },
  {
   "cell_type": "markdown",
   "id": "7cab9dd0-f870-4f4d-9e9a-a2961ae1d95e",
   "metadata": {},
   "source": [
    "### Umbral basado en entropía"
   ]
  },
  {
   "cell_type": "code",
   "execution_count": 38,
   "id": "9807fb1a-d2aa-4679-bec9-b41893595a6f",
   "metadata": {
    "execution": {
     "iopub.execute_input": "2024-03-11T05:07:51.518972Z",
     "iopub.status.busy": "2024-03-11T05:07:51.518972Z",
     "iopub.status.idle": "2024-03-11T05:07:51.562729Z",
     "shell.execute_reply": "2024-03-11T05:07:51.562729Z",
     "shell.execute_reply.started": "2024-03-11T05:07:51.518972Z"
    }
   },
   "outputs": [
    {
     "name": "stdout",
     "output_type": "stream",
     "text": [
      "76\n",
      "[[  0 255 255 ... 255 255 255]\n",
      " [255 255 255 ... 255 255 255]\n",
      " [255 255 255 ...   0   0   0]\n",
      " ...\n",
      " [255   0   0 ... 255 255   0]\n",
      " [255 255 255 ...   0 255   0]\n",
      " [255 255 255 ...   0 255 255]]\n"
     ]
    }
   ],
   "source": [
    "import numpy as np\n",
    "\n",
    "def calculate_threshold_based_on_entropy(image):\n",
    "    unique, counts = np.unique(image, return_counts=True)\n",
    "    total_pixels = image.size\n",
    "    probabilities = counts / total_pixels\n",
    "    \n",
    "    # Calcular la entropía para cada posible umbral\n",
    "    best_threshold = None\n",
    "    max_entropy = -np.inf\n",
    "    \n",
    "    for threshold in range(unique.min(), unique.max()):\n",
    "        # Dividir las intensidades en dos grupos basados en el umbral\n",
    "        background_probs = probabilities[unique <= threshold]\n",
    "        foreground_probs = probabilities[unique > threshold]\n",
    "        \n",
    "        # Evitar divisiones por cero\n",
    "        if background_probs.size == 0 or foreground_probs.size == 0:\n",
    "            continue\n",
    "        \n",
    "        # Calcular la entropía para el fondo y para el objeto\n",
    "        background_entropy = -np.sum(background_probs * np.log2(background_probs + np.finfo(float).eps))\n",
    "        foreground_entropy = -np.sum(foreground_probs * np.log2(foreground_probs + np.finfo(float).eps))\n",
    "        \n",
    "        # Calcular la entropía total como la suma de ambas entropías\n",
    "        total_entropy = background_entropy + foreground_entropy\n",
    "        \n",
    "        # Actualizar el mejor umbral si se encuentra una entropía total mayor\n",
    "        if total_entropy > max_entropy:\n",
    "            max_entropy = total_entropy\n",
    "            best_threshold = threshold\n",
    "    \n",
    "    return best_threshold\n",
    "\n",
    "# Calcular el umbral basado en la entropía\n",
    "threshold_entropy = calculate_threshold_based_on_entropy(image_matrix)\n",
    "\n",
    "print(threshold_entropy)\n",
    "# Aplicar el umbral basado en entropía a la matriz original\n",
    "segmented_by_entropy = np.where(image_matrix <= threshold_entropy, 0, 255)\n",
    "\n",
    "print(segmented_by_entropy)"
   ]
  },
  {
   "cell_type": "markdown",
   "id": "be76aee8-581a-49ed-b662-80d73070df9d",
   "metadata": {},
   "source": [
    "### Valle global"
   ]
  },
  {
   "cell_type": "code",
   "execution_count": 39,
   "id": "6f2ece88-b02e-4f10-95ab-0931f31dc48e",
   "metadata": {
    "execution": {
     "iopub.execute_input": "2024-03-11T05:07:55.534710Z",
     "iopub.status.busy": "2024-03-11T05:07:55.534710Z",
     "iopub.status.idle": "2024-03-11T05:07:55.582160Z",
     "shell.execute_reply": "2024-03-11T05:07:55.579648Z",
     "shell.execute_reply.started": "2024-03-11T05:07:55.534710Z"
    }
   },
   "outputs": [
    {
     "name": "stdout",
     "output_type": "stream",
     "text": [
      "255\n",
      "[[0 0 0 ... 0 0 0]\n",
      " [0 0 0 ... 0 0 0]\n",
      " [0 0 0 ... 0 0 0]\n",
      " ...\n",
      " [0 0 0 ... 0 0 0]\n",
      " [0 0 0 ... 0 0 0]\n",
      " [0 0 0 ... 0 0 0]]\n"
     ]
    }
   ],
   "source": [
    "def find_global_valley_threshold_corrected(image):\n",
    "    unique, counts = np.unique(image.ravel(), return_counts=True)\n",
    "    total_pixels = image.size\n",
    "    \n",
    "    # Crear el histograma de la imagen\n",
    "    histogram, bin_edges = np.histogram(image, bins=np.arange(257), density=True)\n",
    "    \n",
    "    # Calcular la función de coste para cada umbral potencial\n",
    "    best_threshold = None\n",
    "    min_cost = np.inf\n",
    "    \n",
    "    for threshold in range(1, 256):\n",
    "        # Dividir el histograma en dos partes\n",
    "        hist_background = histogram[:threshold]\n",
    "        hist_foreground = histogram[threshold:]\n",
    "        \n",
    "        # Calcular las probabilidades acumuladas para el fondo y el objeto\n",
    "        omega_background = np.sum(hist_background)\n",
    "        omega_foreground = np.sum(hist_foreground)\n",
    "        \n",
    "        # Evitar división por cero\n",
    "        if omega_background == 0 or omega_foreground == 0:\n",
    "            continue\n",
    "        \n",
    "        # Asegurar que las dimensiones de los arrays coinciden para las operaciones\n",
    "        mu_background = np.sum(hist_background * np.arange(threshold)) / omega_background\n",
    "        mu_foreground = np.sum(hist_foreground * np.arange(threshold, 256)) / omega_foreground\n",
    "        \n",
    "        # Calcular la varianza entre clases (o su inversa como coste)\n",
    "        variance_between = omega_background * omega_foreground * (mu_background - mu_foreground) ** 2\n",
    "        \n",
    "        # Buscar el mínimo de la varianza entre clases (máximo de la inversa)\n",
    "        if variance_between < min_cost:\n",
    "            min_cost = variance_between\n",
    "            best_threshold = threshold\n",
    "    \n",
    "    return best_threshold\n",
    "\n",
    "# Intentar de nuevo calcular el umbral de valle global\n",
    "threshold_global_valley_corrected = find_global_valley_threshold_corrected(image_matrix)\n",
    "\n",
    "print(threshold_global_valley_corrected)\n",
    "\n",
    "# Aplicar el umbral de valle global a la matriz original\n",
    "segmented_by_global_valley = np.where(image_matrix <= threshold_global_valley_corrected, 0, 255)\n",
    "\n",
    "print(segmented_by_global_valley)"
   ]
  },
  {
   "cell_type": "markdown",
   "id": "fb61f468-4672-4569-a876-f4269e1213b0",
   "metadata": {},
   "source": [
    "### Vecindarios"
   ]
  },
  {
   "cell_type": "code",
   "execution_count": 40,
   "id": "359aafdf-adee-4301-bb44-3554f974d2d5",
   "metadata": {
    "execution": {
     "iopub.execute_input": "2024-03-11T05:07:58.409229Z",
     "iopub.status.busy": "2024-03-11T05:07:58.409229Z",
     "iopub.status.idle": "2024-03-11T05:07:58.448979Z",
     "shell.execute_reply": "2024-03-11T05:07:58.448979Z",
     "shell.execute_reply.started": "2024-03-11T05:07:58.409229Z"
    }
   },
   "outputs": [
    {
     "data": {
      "text/plain": [
       "array([[ 1,  2,  2,  2,  3,  3,  3,  4,  5,  6],\n",
       "       [ 7,  8,  3,  3,  3,  9,  4,  5, 10, 11],\n",
       "       [12,  7,  7,  3, 13,  9, 14, 15, 11, 16],\n",
       "       [17, 18, 19, 13, 13,  9, 11, 11, 20, 16],\n",
       "       [17, 21, 21, 19, 22, 11, 11, 23, 11, 11],\n",
       "       [24, 21, 25, 26, 11, 27, 28, 28, 29, 30],\n",
       "       [31, 32, 26, 33, 11, 34, 29, 29, 35, 29],\n",
       "       [32, 32, 36, 37, 34, 38, 29, 29, 29, 35],\n",
       "       [39, 40, 37, 41, 34, 34, 34, 29, 29, 29],\n",
       "       [42, 42, 34, 34, 43, 34, 44, 45, 29, 46]])"
      ]
     },
     "execution_count": 40,
     "metadata": {},
     "output_type": "execute_result"
    }
   ],
   "source": [
    "def identify_neighborhoods(image, similarity_threshold, proximity=1):\n",
    "    \"\"\"\n",
    "    Identifica vecindarios en una imagen basándose en la similitud de intensidad y la proximidad física.\n",
    "    \n",
    "    :param image: Matriz de la imagen en escala de grises.\n",
    "    :param similarity_threshold: Umbral para la diferencia máxima de intensidad entre píxeles vecinos.\n",
    "    :param proximity: Distancia máxima considerada para la proximidad física (1 para vecinos inmediatos).\n",
    "    :return: Matriz con los mismos tamaños que la imagen, donde cada elemento es el ID del vecindario al que pertenece.\n",
    "    \"\"\"\n",
    "    # Inicializar la matriz de vecindarios con ceros (ningún píxel asignado a un vecindario)\n",
    "    neighborhoods = np.zeros_like(image, dtype=int)\n",
    "    neighborhood_id = 1  # Iniciar IDs de vecindario\n",
    "    \n",
    "    for i in range(image.shape[0]):\n",
    "        for j in range(image.shape[1]):\n",
    "            if neighborhoods[i, j] == 0:  # Si el píxel aún no ha sido asignado a un vecindario\n",
    "                # Marcar el píxel actual con el ID de vecindario actual y buscar vecinos similares\n",
    "                search_similar_neighbors(image, neighborhoods, i, j, neighborhood_id, similarity_threshold, proximity)\n",
    "                neighborhood_id += 1  # Incrementar el ID para el próximo vecindario\n",
    "    \n",
    "    return neighborhoods\n",
    "\n",
    "def search_similar_neighbors(image, neighborhoods, i, j, neighborhood_id, threshold, proximity):\n",
    "    \"\"\"\n",
    "    Busca y asigna vecinos similares al mismo vecindario de un píxel dado.\n",
    "    \n",
    "    :param image: Matriz de la imagen en escala de grises.\n",
    "    :param neighborhoods: Matriz de los vecindarios asignados.\n",
    "    :param i: Índice de fila del píxel actual.\n",
    "    :param j: Índice de columna del píxel actual.\n",
    "    :param neighborhood_id: ID del vecindario para asignar a los vecinos similares encontrados.\n",
    "    :param threshold: Umbral de similitud para considerar a los vecinos.\n",
    "    :param proximity: Proximidad para considerar vecinos.\n",
    "    \"\"\"\n",
    "    if i < 0 or i >= image.shape[0] or j < 0 or j >= image.shape[1]:  # Si el índice está fuera de la matriz\n",
    "        return\n",
    "    if neighborhoods[i, j] != 0:  # Si el píxel ya ha sido asignado a un vecindario\n",
    "        return\n",
    "    \n",
    "    # Marcar el píxel actual con el ID de vecindario\n",
    "    neighborhoods[i, j] = neighborhood_id\n",
    "    \n",
    "    # Buscar vecinos en la proximidad definida\n",
    "    for di in range(-proximity, proximity+1):\n",
    "        for dj in range(-proximity, proximity+1):\n",
    "            if 0 <= i+di < image.shape[0] and 0 <= j+dj < image.shape[1]:  # Asegurarse de que el vecino esté dentro de la imagen\n",
    "                if abs(image[i, j] - image[i+di, j+dj]) <= threshold:  # Si el vecino es similar\n",
    "                    search_similar_neighbors(image, neighborhoods, i+di, j+dj, neighborhood_id, threshold, proximity)  # Asignar vecino al mismo vecindario\n",
    "\n",
    "# Vamos a probar este enfoque en una matriz de ejemplo\n",
    "np.random.seed(4)  # Generar una nueva matriz de imagen para este ejemplo\n",
    "image_matrix_5 = np.random.randint(0, 256, size=(10, 10))\n",
    "neighborhoods = identify_neighborhoods(image_matrix_5, similarity_threshold=20, proximity=1)\n",
    "\n",
    "neighborhoods\n"
   ]
  },
  {
   "cell_type": "code",
   "execution_count": null,
   "id": "a200e981-045a-4460-86aa-10e7522416a0",
   "metadata": {},
   "outputs": [],
   "source": []
  }
 ],
 "metadata": {
  "kernelspec": {
   "display_name": "Python 3 (ipykernel)",
   "language": "python",
   "name": "python3"
  },
  "language_info": {
   "codemirror_mode": {
    "name": "ipython",
    "version": 3
   },
   "file_extension": ".py",
   "mimetype": "text/x-python",
   "name": "python",
   "nbconvert_exporter": "python",
   "pygments_lexer": "ipython3",
   "version": "3.11.7"
  }
 },
 "nbformat": 4,
 "nbformat_minor": 5
}
